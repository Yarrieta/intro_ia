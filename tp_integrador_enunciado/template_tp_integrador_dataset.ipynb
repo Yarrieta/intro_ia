{
 "cells": [
  {
   "cell_type": "markdown",
   "id": "27719223",
   "metadata": {},
   "source": [
    "\n",
    "# Trabajo Práctico 2"
   ]
  },
  {
   "cell_type": "markdown",
   "id": "461d011d",
   "metadata": {},
   "source": [
    "Dentro de la carpeta de `data/` vamos a poder encontrar 3 datasets:\n",
    "\n",
    "- Pokemon (Problema de clasificacion Binaria): La intención es tratar de predecir si basada en la información que tenemos podemos estimar si la carta que estamos viendo es Legendaria o no (Booleano).\n",
    "- Heart Disease (Problema de clasificacion Binaria): A partir de este dataset vamos a tratar de determinar si una persona basado en ciertos datos tiene asociado una enfermedad cardiaca.\n",
    "- Challenger USA Space Shuttle O-Ring Data Set (Regresion multivariada): En este dataset encontramos información sobre varios despegues del space shuttle, la intención de este problema es tratar de predecir cuanto será la cantidad de O-Rings que fallan dadas las condiciones de despegue.\n",
    "\n",
    "> Para la presentación de sus trabajos prácticos **Elijan 1 de los 3 datasets**"
   ]
  },
  {
   "cell_type": "markdown",
   "id": "5a976dd3",
   "metadata": {},
   "source": [
    "# Importar librerías\n",
    "\n",
    "Importar aquellas librerías que serán utilizadas en el trabajo."
   ]
  },
  {
   "cell_type": "code",
   "execution_count": 34,
   "id": "845b6c50",
   "metadata": {},
   "outputs": [],
   "source": [
    "import os\n",
    "import numpy as np\n",
    "import pandas as pd\n",
    "import seaborn as sns\n",
    "\n",
    "%matplotlib inline\n",
    "from matplotlib import pyplot as plt\n",
    "plt.rcParams['figure.figsize'] = (12, 9)\n",
    "plt.rcParams['font.family'] = 'DejaVu Sans'\n",
    "\n",
    "from sklearn import metrics\n",
    "from sklearn.cluster import KMeans\n",
    "from sklearn.decomposition import PCA\n",
    "from sklearn.preprocessing import StandardScaler\n",
    "\n",
    "\n",
    "# Entrenamiento de modelos de prueba\n",
    "from sklearn.linear_model import LinearRegression\n",
    "\n",
    "# Evaluación de modelos de prueba\n",
    "from sklearn.metrics import mean_squared_error\n",
    "\n",
    "# Crear datasets\n",
    "from sklearn.datasets import make_regression\n",
    "\n",
    "RANDOM_STATE = 17"
   ]
  },
  {
   "cell_type": "markdown",
   "id": "954111ce",
   "metadata": {},
   "source": [
    "# Cargar datos\n",
    "\n",
    "Cargar los datos de entrenamiento.\n",
    "\n",
    "Recordemos que para todos los datasets tenemos el archivo `columns.csv` que contiene el nombre y descripción de cada columna en el mismo orden que van a encontrar los datos.\n",
    "\n",
    "En los casos de datos con extensión  `*.data` vamos a tener que leerlo utilizando `pd.read_data('myfile.data', sep = ',', header = 0, names = my_cols)`\n",
    "\n",
    "De esta manera si quisieramos cargar datos por ejemplo de Nasa deberiamos poner algo asi\n",
    "\n",
    "\n",
    "```python\n",
    "## Importing python earlier\n",
    "\n",
    "my_cols = pd.read_csv('./data/nasa_orings/columns.csv').column.values.tolist()\n",
    "\n",
    "my_data = pd.read_csv('./data/nasa_orings/o-ring-erosion-or-blowby.data',\n",
    "                       delimiter=',',\n",
    "                       header=0,\n",
    "                       names = my_cols\n",
    "                    )\n",
    "```"
   ]
  },
  {
   "cell_type": "code",
   "execution_count": 35,
   "id": "26f41c45",
   "metadata": {},
   "outputs": [],
   "source": [
    "\n",
    "my_cols = pd.read_csv('./data/nasa_orings/columns.csv').column.values.tolist()\n",
    "\n",
    "my_data = pd.read_csv('./data/nasa_orings/o-ring-erosion-or-blowby.data',\n",
    "                       delimiter=',',\n",
    "                       header=0,\n",
    "                       names = my_cols\n",
    "                    )"
   ]
  },
  {
   "cell_type": "markdown",
   "id": "c93000bd",
   "metadata": {},
   "source": [
    "# Análisis exploratorio básico y preprocesamiento de los datos\n",
    "\n",
    "Análisis de los datos para conocer los mismos, ver datos faltantes, decidir cómo tratarlos, ver distribuciones, relaciones, etc. Procesar los datos centrándolos, reescalando, codificando, reduciendo dimensiones, etc. según considere necesario.\n",
    "\n",
    "Vamos a considerar:\n",
    "\n",
    "- Para escalar datos: `sklearn.preprocessing.StandardScaler()`\n",
    "- Para completar valores nulos: `sklearn.impute.SimpleImputer()` [Quickguide](https://scikit-learn.org/stable/modules/impute.html)\n",
    "- Para reduccion de dimensiones (sobre todo para visualizar los datos): PCA o [T-SNE](https://builtin.com/data-science/tsne-python) (Solo para visualización)\n",
    "- Para codificar variables categóricas: `sklearn.preprocessing.OneHotEncoder()`"
   ]
  },
  {
   "attachments": {},
   "cell_type": "markdown",
   "id": "cb4f891b",
   "metadata": {},
   "source": [
    "La tarea es predecir el número de juntas tóricas que experimentarán\n",
    "    angustia térmica para un vuelo dado cuando la temperatura de lanzamiento es\n",
    "    bajo cero.\n",
    "\n",
    "6. Número de atributos: 5\n",
    "      1. Número de juntas tóricas en riesgo en un vuelo determinado\n",
    "      2. Número que experimenta problemas térmicos\n",
    "      3. Temperatura de lanzamiento (grados F)\n",
    "      4. Presión de verificación de fugas (psi)\n",
    "      5. Orden temporal de vuelo"
   ]
  },
  {
   "cell_type": "code",
   "execution_count": 36,
   "id": "b66211cd",
   "metadata": {},
   "outputs": [
    {
     "data": {
      "text/html": [
       "<div>\n",
       "<style scoped>\n",
       "    .dataframe tbody tr th:only-of-type {\n",
       "        vertical-align: middle;\n",
       "    }\n",
       "\n",
       "    .dataframe tbody tr th {\n",
       "        vertical-align: top;\n",
       "    }\n",
       "\n",
       "    .dataframe thead th {\n",
       "        text-align: right;\n",
       "    }\n",
       "</style>\n",
       "<table border=\"1\" class=\"dataframe\">\n",
       "  <thead>\n",
       "    <tr style=\"text-align: right;\">\n",
       "      <th></th>\n",
       "      <th>Number of O-rings at risk on a given flight</th>\n",
       "      <th>Number experiencing thermal distress</th>\n",
       "      <th>Launch temperature (degrees F)</th>\n",
       "      <th>Leak-check pressure (psi)</th>\n",
       "      <th>Temporal order of flight</th>\n",
       "    </tr>\n",
       "  </thead>\n",
       "  <tbody>\n",
       "    <tr>\n",
       "      <th>0</th>\n",
       "      <td>6</td>\n",
       "      <td>1</td>\n",
       "      <td>70</td>\n",
       "      <td>50</td>\n",
       "      <td>2</td>\n",
       "    </tr>\n",
       "    <tr>\n",
       "      <th>1</th>\n",
       "      <td>6</td>\n",
       "      <td>0</td>\n",
       "      <td>69</td>\n",
       "      <td>50</td>\n",
       "      <td>3</td>\n",
       "    </tr>\n",
       "    <tr>\n",
       "      <th>2</th>\n",
       "      <td>6</td>\n",
       "      <td>0</td>\n",
       "      <td>68</td>\n",
       "      <td>50</td>\n",
       "      <td>4</td>\n",
       "    </tr>\n",
       "    <tr>\n",
       "      <th>3</th>\n",
       "      <td>6</td>\n",
       "      <td>0</td>\n",
       "      <td>67</td>\n",
       "      <td>50</td>\n",
       "      <td>5</td>\n",
       "    </tr>\n",
       "    <tr>\n",
       "      <th>4</th>\n",
       "      <td>6</td>\n",
       "      <td>0</td>\n",
       "      <td>72</td>\n",
       "      <td>50</td>\n",
       "      <td>6</td>\n",
       "    </tr>\n",
       "  </tbody>\n",
       "</table>\n",
       "</div>"
      ],
      "text/plain": [
       "   Number of O-rings at risk on a given flight  \\\n",
       "0                                            6   \n",
       "1                                            6   \n",
       "2                                            6   \n",
       "3                                            6   \n",
       "4                                            6   \n",
       "\n",
       "   Number experiencing thermal distress  Launch temperature (degrees F)  \\\n",
       "0                                     1                              70   \n",
       "1                                     0                              69   \n",
       "2                                     0                              68   \n",
       "3                                     0                              67   \n",
       "4                                     0                              72   \n",
       "\n",
       "   Leak-check pressure (psi)  Temporal order of flight  \n",
       "0                         50                         2  \n",
       "1                         50                         3  \n",
       "2                         50                         4  \n",
       "3                         50                         5  \n",
       "4                         50                         6  "
      ]
     },
     "execution_count": 36,
     "metadata": {},
     "output_type": "execute_result"
    }
   ],
   "source": [
    "my_data.head()"
   ]
  },
  {
   "cell_type": "code",
   "execution_count": 37,
   "id": "78a96168",
   "metadata": {},
   "outputs": [
    {
     "data": {
      "text/plain": [
       "(22, 5)"
      ]
     },
     "execution_count": 37,
     "metadata": {},
     "output_type": "execute_result"
    }
   ],
   "source": [
    "my_data.shape"
   ]
  },
  {
   "cell_type": "code",
   "execution_count": 38,
   "id": "2fe95587",
   "metadata": {},
   "outputs": [
    {
     "name": "stdout",
     "output_type": "stream",
     "text": [
      "<class 'pandas.core.frame.DataFrame'>\n",
      "RangeIndex: 22 entries, 0 to 21\n",
      "Data columns (total 5 columns):\n",
      " #   Column                                       Non-Null Count  Dtype\n",
      "---  ------                                       --------------  -----\n",
      " 0   Number of O-rings at risk on a given flight  22 non-null     int64\n",
      " 1   Number experiencing thermal distress         22 non-null     int64\n",
      " 2   Launch temperature (degrees F)               22 non-null     int64\n",
      " 3   Leak-check pressure (psi)                    22 non-null     int64\n",
      " 4   Temporal order of flight                     22 non-null     int64\n",
      "dtypes: int64(5)\n",
      "memory usage: 1008.0 bytes\n"
     ]
    }
   ],
   "source": [
    "my_data.info()"
   ]
  },
  {
   "cell_type": "code",
   "execution_count": 39,
   "id": "b240e495",
   "metadata": {},
   "outputs": [
    {
     "data": {
      "text/html": [
       "<div>\n",
       "<style scoped>\n",
       "    .dataframe tbody tr th:only-of-type {\n",
       "        vertical-align: middle;\n",
       "    }\n",
       "\n",
       "    .dataframe tbody tr th {\n",
       "        vertical-align: top;\n",
       "    }\n",
       "\n",
       "    .dataframe thead th {\n",
       "        text-align: right;\n",
       "    }\n",
       "</style>\n",
       "<table border=\"1\" class=\"dataframe\">\n",
       "  <thead>\n",
       "    <tr style=\"text-align: right;\">\n",
       "      <th></th>\n",
       "      <th>Number of O-rings at risk on a given flight</th>\n",
       "      <th>Number experiencing thermal distress</th>\n",
       "      <th>Launch temperature (degrees F)</th>\n",
       "      <th>Leak-check pressure (psi)</th>\n",
       "      <th>Temporal order of flight</th>\n",
       "    </tr>\n",
       "  </thead>\n",
       "  <tbody>\n",
       "    <tr>\n",
       "      <th>count</th>\n",
       "      <td>22.00</td>\n",
       "      <td>22.00</td>\n",
       "      <td>22.00</td>\n",
       "      <td>22.00</td>\n",
       "      <td>22.00</td>\n",
       "    </tr>\n",
       "    <tr>\n",
       "      <th>mean</th>\n",
       "      <td>6.00</td>\n",
       "      <td>0.41</td>\n",
       "      <td>69.73</td>\n",
       "      <td>156.82</td>\n",
       "      <td>12.50</td>\n",
       "    </tr>\n",
       "    <tr>\n",
       "      <th>std</th>\n",
       "      <td>0.00</td>\n",
       "      <td>0.67</td>\n",
       "      <td>7.18</td>\n",
       "      <td>66.00</td>\n",
       "      <td>6.49</td>\n",
       "    </tr>\n",
       "    <tr>\n",
       "      <th>min</th>\n",
       "      <td>6.00</td>\n",
       "      <td>0.00</td>\n",
       "      <td>53.00</td>\n",
       "      <td>50.00</td>\n",
       "      <td>2.00</td>\n",
       "    </tr>\n",
       "    <tr>\n",
       "      <th>25%</th>\n",
       "      <td>6.00</td>\n",
       "      <td>0.00</td>\n",
       "      <td>67.00</td>\n",
       "      <td>100.00</td>\n",
       "      <td>7.25</td>\n",
       "    </tr>\n",
       "    <tr>\n",
       "      <th>50%</th>\n",
       "      <td>6.00</td>\n",
       "      <td>0.00</td>\n",
       "      <td>70.00</td>\n",
       "      <td>200.00</td>\n",
       "      <td>12.50</td>\n",
       "    </tr>\n",
       "    <tr>\n",
       "      <th>75%</th>\n",
       "      <td>6.00</td>\n",
       "      <td>1.00</td>\n",
       "      <td>75.00</td>\n",
       "      <td>200.00</td>\n",
       "      <td>17.75</td>\n",
       "    </tr>\n",
       "    <tr>\n",
       "      <th>max</th>\n",
       "      <td>6.00</td>\n",
       "      <td>2.00</td>\n",
       "      <td>81.00</td>\n",
       "      <td>200.00</td>\n",
       "      <td>23.00</td>\n",
       "    </tr>\n",
       "  </tbody>\n",
       "</table>\n",
       "</div>"
      ],
      "text/plain": [
       "      Number of O-rings at risk on a given flight  \\\n",
       "count                                       22.00   \n",
       "mean                                         6.00   \n",
       "std                                          0.00   \n",
       "min                                          6.00   \n",
       "25%                                          6.00   \n",
       "50%                                          6.00   \n",
       "75%                                          6.00   \n",
       "max                                          6.00   \n",
       "\n",
       "      Number experiencing thermal distress Launch temperature (degrees F)  \\\n",
       "count                                22.00                          22.00   \n",
       "mean                                  0.41                          69.73   \n",
       "std                                   0.67                           7.18   \n",
       "min                                   0.00                          53.00   \n",
       "25%                                   0.00                          67.00   \n",
       "50%                                   0.00                          70.00   \n",
       "75%                                   1.00                          75.00   \n",
       "max                                   2.00                          81.00   \n",
       "\n",
       "      Leak-check pressure (psi) Temporal order of flight  \n",
       "count                     22.00                    22.00  \n",
       "mean                     156.82                    12.50  \n",
       "std                       66.00                     6.49  \n",
       "min                       50.00                     2.00  \n",
       "25%                      100.00                     7.25  \n",
       "50%                      200.00                    12.50  \n",
       "75%                      200.00                    17.75  \n",
       "max                      200.00                    23.00  "
      ]
     },
     "execution_count": 39,
     "metadata": {},
     "output_type": "execute_result"
    }
   ],
   "source": [
    "my_data.describe().apply(lambda s: s.apply('{0:.2f}'.format))"
   ]
  },
  {
   "cell_type": "code",
   "execution_count": 40,
   "id": "edff23f6",
   "metadata": {},
   "outputs": [
    {
     "name": "stdout",
     "output_type": "stream",
     "text": [
      "6    22\n",
      "Name: Number of O-rings at risk on a given flight, dtype: int64\n",
      "===========================================\n",
      "0    15\n",
      "1     5\n",
      "2     2\n",
      "Name: Number experiencing thermal distress, dtype: int64\n",
      "===========================================\n",
      "70    4\n",
      "67    3\n",
      "76    2\n",
      "75    2\n",
      "63    1\n",
      "58    1\n",
      "57    1\n",
      "53    1\n",
      "81    1\n",
      "79    1\n",
      "78    1\n",
      "73    1\n",
      "72    1\n",
      "69    1\n",
      "68    1\n",
      "Name: Launch temperature (degrees F), dtype: int64\n",
      "===========================================\n",
      "200    15\n",
      "50      5\n",
      "100     2\n",
      "Name: Leak-check pressure (psi), dtype: int64\n",
      "===========================================\n",
      "23    1\n",
      "22    1\n",
      "3     1\n",
      "4     1\n",
      "5     1\n",
      "6     1\n",
      "7     1\n",
      "8     1\n",
      "9     1\n",
      "10    1\n",
      "11    1\n",
      "12    1\n",
      "13    1\n",
      "14    1\n",
      "15    1\n",
      "16    1\n",
      "17    1\n",
      "18    1\n",
      "19    1\n",
      "20    1\n",
      "21    1\n",
      "2     1\n",
      "Name: Temporal order of flight, dtype: int64\n",
      "===========================================\n"
     ]
    }
   ],
   "source": [
    "columnas = list(my_data.columns.values)\n",
    "for column in columnas:\n",
    "  frecuencia= my_data[column].value_counts()\n",
    "  print(frecuencia)\n",
    "  print(\"===========================================\")"
   ]
  },
  {
   "cell_type": "code",
   "execution_count": 41,
   "id": "dcb26b4b",
   "metadata": {},
   "outputs": [
    {
     "data": {
      "text/plain": [
       "Number of O-rings at risk on a given flight    0\n",
       "Number experiencing thermal distress           0\n",
       "Launch temperature (degrees F)                 0\n",
       "Leak-check pressure (psi)                      0\n",
       "Temporal order of flight                       0\n",
       "dtype: int64"
      ]
     },
     "execution_count": 41,
     "metadata": {},
     "output_type": "execute_result"
    }
   ],
   "source": [
    "#Determinar nulos en las variables de entrada\n",
    "my_data.isnull().sum()"
   ]
  },
  {
   "cell_type": "code",
   "execution_count": 49,
   "id": "22b1b1c4",
   "metadata": {},
   "outputs": [],
   "source": [
    "def boxplot(df,column):\n",
    "    plt.figure(figsize=(15,7))\n",
    "    sns.boxplot(df[column])\n",
    "    plt.title('Boxplot para {}'.format(column), fontsize='xx-large')\n",
    "    plt.show()\n"
   ]
  },
  {
   "cell_type": "code",
   "execution_count": 50,
   "id": "38ecff37",
   "metadata": {},
   "outputs": [
    {
     "name": "stderr",
     "output_type": "stream",
     "text": [
      "c:\\Users\\yessrandy\\anaconda3\\lib\\site-packages\\seaborn\\_decorators.py:36: FutureWarning: Pass the following variable as a keyword arg: x. From version 0.12, the only valid positional argument will be `data`, and passing other arguments without an explicit keyword will result in an error or misinterpretation.\n",
      "  warnings.warn(\n"
     ]
    },
    {
     "data": {
      "image/png": "[encoded data removed]",
      "text/plain": [
       "<Figure size 1080x504 with 1 Axes>"
      ]
     },
     "metadata": {
      "needs_background": "light"
     },
     "output_type": "display_data"
    }
   ],
   "source": [
    "boxplot(my_data,\"Number of O-rings at risk on a given flight\" )"
   ]
  },
  {
   "cell_type": "code",
   "execution_count": 51,
   "id": "0080e6b9",
   "metadata": {},
   "outputs": [
    {
     "name": "stderr",
     "output_type": "stream",
     "text": [
      "c:\\Users\\yessrandy\\anaconda3\\lib\\site-packages\\seaborn\\_decorators.py:36: FutureWarning: Pass the following variable as a keyword arg: x. From version 0.12, the only valid positional argument will be `data`, and passing other arguments without an explicit keyword will result in an error or misinterpretation.\n",
      "  warnings.warn(\n"
     ]
    },
    {
     "data": {
      "image/png": "[encoded data removed]",
      "text/plain": [
       "<Figure size 1080x504 with 1 Axes>"
      ]
     },
     "metadata": {
      "needs_background": "light"
     },
     "output_type": "display_data"
    }
   ],
   "source": [
    "boxplot(my_data,\"Number experiencing thermal distress\" )"
   ]
  },
  {
   "cell_type": "code",
   "execution_count": 52,
   "id": "5b1dfc9f",
   "metadata": {},
   "outputs": [
    {
     "name": "stderr",
     "output_type": "stream",
     "text": [
      "c:\\Users\\yessrandy\\anaconda3\\lib\\site-packages\\seaborn\\_decorators.py:36: FutureWarning: Pass the following variable as a keyword arg: x. From version 0.12, the only valid positional argument will be `data`, and passing other arguments without an explicit keyword will result in an error or misinterpretation.\n",
      "  warnings.warn(\n"
     ]
    },
    {
     "data": {
      "image/png": "[encoded data removed]",
      "text/plain": [
       "<Figure size 1080x504 with 1 Axes>"
      ]
     },
     "metadata": {
      "needs_background": "light"
     },
     "output_type": "display_data"
    }
   ],
   "source": [
    "boxplot(my_data,\"Launch temperature (degrees F)\" )"
   ]
  },
  {
   "cell_type": "code",
   "execution_count": 53,
   "id": "2cd009a1",
   "metadata": {},
   "outputs": [
    {
     "name": "stderr",
     "output_type": "stream",
     "text": [
      "c:\\Users\\yessrandy\\anaconda3\\lib\\site-packages\\seaborn\\_decorators.py:36: FutureWarning: Pass the following variable as a keyword arg: x. From version 0.12, the only valid positional argument will be `data`, and passing other arguments without an explicit keyword will result in an error or misinterpretation.\n",
      "  warnings.warn(\n"
     ]
    },
    {
     "data": {
      "image/png": "[encoded data removed]",
      "text/plain": [
       "<Figure size 1080x504 with 1 Axes>"
      ]
     },
     "metadata": {
      "needs_background": "light"
     },
     "output_type": "display_data"
    }
   ],
   "source": [
    "boxplot(my_data,\"Leak-check pressure (psi)\" )"
   ]
  },
  {
   "cell_type": "code",
   "execution_count": 55,
   "id": "e511a9e4",
   "metadata": {},
   "outputs": [
    {
     "name": "stderr",
     "output_type": "stream",
     "text": [
      "c:\\Users\\yessrandy\\anaconda3\\lib\\site-packages\\seaborn\\_decorators.py:36: FutureWarning: Pass the following variable as a keyword arg: x. From version 0.12, the only valid positional argument will be `data`, and passing other arguments without an explicit keyword will result in an error or misinterpretation.\n",
      "  warnings.warn(\n"
     ]
    },
    {
     "data": {
      "image/png": "[encoded data removed]",
      "text/plain": [
       "<Figure size 1080x504 with 1 Axes>"
      ]
     },
     "metadata": {
      "needs_background": "light"
     },
     "output_type": "display_data"
    }
   ],
   "source": [
    "boxplot(my_data,\"Temporal order of flight\" )"
   ]
  },
  {
   "cell_type": "code",
   "execution_count": 44,
   "id": "62f11e1b",
   "metadata": {},
   "outputs": [
    {
     "data": {
      "text/plain": [
       "<seaborn.axisgrid.PairGrid at 0x27d53418e50>"
      ]
     },
     "execution_count": 44,
     "metadata": {},
     "output_type": "execute_result"
    },
    {
     "data": {
      "image/png": "[encoded data removed]",
      "text/plain": [
       "<Figure size 900x900 with 30 Axes>"
      ]
     },
     "metadata": {
      "needs_background": "light"
     },
     "output_type": "display_data"
    }
   ],
   "source": [
    "sns.pairplot(my_data)"
   ]
  },
  {
   "cell_type": "code",
   "execution_count": 56,
   "id": "1ccb264b",
   "metadata": {},
   "outputs": [],
   "source": [
    "def histograma(df, variable):\n",
    "    plt.figure(figsize=(10,5))\n",
    "    plt.title(\"Histograma de la {}\".format(variable))\n",
    "    sns.histplot(x=variable, data= df)"
   ]
  },
  {
   "cell_type": "code",
   "execution_count": null,
   "id": "287fd83e",
   "metadata": {},
   "outputs": [],
   "source": [
    "histograma(my_data.sample(1000, random_state=0),\"tip_amount\")"
   ]
  },
  {
   "cell_type": "markdown",
   "id": "13e49832",
   "metadata": {},
   "source": [
    "# Modelos y evaluación\n",
    "Probar diferentes modelos para predecir la variable objetivo. Calcular las métricas que considere relevantes. Comentar los resultados. "
   ]
  },
  {
   "cell_type": "code",
   "execution_count": 45,
   "id": "529db73e",
   "metadata": {},
   "outputs": [],
   "source": [
    "from sklearn.linear_model import ElasticNet, ElasticNetCV, LogisticRegression, LogisticRegressionCV, SGDClassifier, SGDRegressor"
   ]
  }
 ],
 "metadata": {
  "kernelspec": {
   "display_name": "base",
   "language": "python",
   "name": "python3"
  },
  "language_info": {
   "codemirror_mode": {
    "name": "ipython",
    "version": 3
   },
   "file_extension": ".py",
   "mimetype": "text/x-python",
   "name": "python",
   "nbconvert_exporter": "python",
   "pygments_lexer": "ipython3",
   "version": "3.8.5"
  },
  "vscode": {
   "interpreter": {
    "hash": "c64b374470894736b00efd5d8a62279d73409cb9da04b0df90ff31f7084c1137"
   }
  }
 },
 "nbformat": 4,
 "nbformat_minor": 5
}
